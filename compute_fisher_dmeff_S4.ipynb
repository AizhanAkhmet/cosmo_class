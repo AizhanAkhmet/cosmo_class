{
 "cells": [
  {
   "cell_type": "code",
   "execution_count": 67,
   "metadata": {},
   "outputs": [],
   "source": [
    "%matplotlib inline \n",
    "%config InlineBackend.figure_format = 'retina'\n",
    "import numpy as np\n",
    "import matplotlib.pyplot as plt\n",
    "from classy import Class  \n",
    "import math\n",
    "from numpy.linalg import inv\n",
    "from IPython.display import Image"
   ]
  },
  {
   "cell_type": "code",
   "execution_count": 68,
   "metadata": {},
   "outputs": [],
   "source": [
    "#INPUT PARAMETERS:\n",
    "n_power = 2\n",
    "dm_mass = 1e-2 #GeV\n",
    "step_size_cross_section = 4e-19 * pow(dm_mass,0.70)\n",
    "#2e-26 * pow(dm_mass,0.15)\n",
    "\n",
    "list_param = ['omega_b','omega_dmeff', 'h',  'A_s', 'n_s', 'tau_reio','sigma_dmeff']\n",
    "list_fiducial = [0.02222, 0.1197,      0.69,  2.1955e-9, 0.9655, 0.06, 0]\n",
    "list_step = [0.0001,     0.001,    0.01,   0.01e-9, 0.005, 0.02, step_size_cross_section]\n",
    "list_param_step = list(zip(list_param, list_step))\n",
    "\n",
    "Tcmb = 2.726"
   ]
  },
  {
   "cell_type": "code",
   "execution_count": 69,
   "metadata": {},
   "outputs": [],
   "source": [
    "# Define the CLASS input dictionary, use defaults\n",
    "params = {\n",
    "    'output': 'tCl pCl lCl',\n",
    "    'l_max_scalars': 2500,\n",
    "    'lensing': 'yes',\n",
    "    'omega_b': list_fiducial[0],\n",
    "    'omega_dmeff': list_fiducial[1],\n",
    "    'h': list_fiducial[2],\n",
    "    'A_s' : list_fiducial[3],\n",
    "    'n_s' : list_fiducial[4], \n",
    "    'tau_reio' : list_fiducial[5],\n",
    "    'sigma_dmeff': list_fiducial[6],\n",
    "    'm_dmeff': dm_mass,\n",
    "    'omega_cdm' : 1.0e-10,\n",
    "    'npow_dmeff': n_power\n",
    "}\n",
    "\n",
    "# The usual CLASS code for computing C_l - fiducial only:\n",
    "cosmo = Class()\n",
    "cosmo.set(params)\n",
    "cosmo.compute()\n",
    "fiducial = cosmo.lensed_cl(2500)\n",
    "cosmo.struct_cleanup()\n",
    "cosmo.empty()\n",
    "ell = fiducial['ell']"
   ]
  },
  {
   "cell_type": "code",
   "execution_count": 70,
   "metadata": {},
   "outputs": [],
   "source": [
    "#For right and left C_l's:\n",
    "def utility_function_call_CLASS(input_dict, l_max=2500):\n",
    "    \"\"\"Compute Cl with this utility function, repeat less code.\"\"\"\n",
    "    cosmo = Class()\n",
    "    cosmo.set(input_dict)\n",
    "    cosmo.compute()\n",
    "    temp_cl = cosmo.lensed_cl(l_max)\n",
    "    cosmo.struct_cleanup()\n",
    "    cosmo.empty()\n",
    "    return temp_cl"
   ]
  },
  {
   "cell_type": "code",
   "execution_count": 71,
   "metadata": {},
   "outputs": [],
   "source": [
    "def compute_derivative(params, theta, XY, stepsize, fiduc):\n",
    "    left_params = params.copy()\n",
    "    if theta == 'sigma_dmeff':\n",
    "        left_params[theta] = params[theta]\n",
    "        right_params = params.copy()\n",
    "        right_params[theta] = params[theta] + stepsize\n",
    "\n",
    "        # get the C_l^XY and then compute the derivative!\n",
    "        cl_XY_left = utility_function_call_CLASS(left_params)[XY]\n",
    "        cl_XY_right = utility_function_call_CLASS(right_params)[XY]\n",
    "        dClXY_dparam = (cl_XY_right - cl_XY_left) / (stepsize)\n",
    "    else:\n",
    "        left_params[theta] = params[theta] - stepsize\n",
    "        right_params = params.copy()\n",
    "        right_params[theta] = params[theta] + stepsize\n",
    "\n",
    "        # get the C_l^XY and then compute the derivative!\n",
    "        cl_XY_left = utility_function_call_CLASS(left_params)[XY]\n",
    "        cl_XY_right = utility_function_call_CLASS(right_params)[XY]\n",
    "        dClXY_dparam = (cl_XY_right - cl_XY_left) / (2 * stepsize)\n",
    "\n",
    "    return dClXY_dparam / fiduc[XY], dClXY_dparam\n",
    "\n",
    "def compute_d_cl(list_param_step, params, XY, fiducial):\n",
    "    der_map = {}\n",
    "    d_cl = {}\n",
    "    for (par, stepsize) in list_param_step:\n",
    "        norm_derivative, derivative = compute_derivative(params, par, XY, stepsize, fiducial)\n",
    "        der_map[par] = norm_derivative\n",
    "        d_cl[par] = derivative\n",
    "    return d_cl\n",
    "\n",
    "def compute_d_cl_der_map(list_param_step, params, XY, fiducial):\n",
    "    der_map = {}\n",
    "    d_cl = {}\n",
    "    for (par, stepsize) in list_param_step:\n",
    "        norm_derivative, derivative = compute_derivative(params, par, XY, stepsize, fiducial)\n",
    "        der_map[par] = norm_derivative\n",
    "        d_cl[par] = derivative\n",
    "    return d_cl, der_map"
   ]
  },
  {
   "cell_type": "code",
   "execution_count": null,
   "metadata": {},
   "outputs": [
    {
     "name": "stderr",
     "output_type": "stream",
     "text": [
      "<ipython-input-71-bdc1f727b3e0>:22: RuntimeWarning: invalid value encountered in true_divide\n",
      "  return dClXY_dparam / fiduc[XY], dClXY_dparam\n"
     ]
    }
   ],
   "source": [
    "#Plotting Derivatives\n",
    "dict_params, dict_norm_der = compute_d_cl_der_map(list_param_step, params, 'tt', fiducial)\n",
    "fig, axs = plt.subplots(2, 4, figsize=(10,4))\n",
    "\n",
    "axs[0, 0].plot(dict_norm_der['omega_b'])\n",
    "axs[0, 0].set_title('omega_b')\n",
    "\n",
    "axs[0, 1].plot(dict_norm_der['omega_dmeff'], 'tab:orange')\n",
    "axs[0, 1].set_title(r'$\\Omega_{dmeff}$')\n",
    "\n",
    "axs[0, 2].plot(dict_norm_der['h'], 'tab:brown')\n",
    "axs[0, 2].set_title('h')\n",
    "\n",
    "axs[0, 3].plot(dict_norm_der['A_s'], 'tab:green')\n",
    "axs[0, 3].set_title('A_s')\n",
    "\n",
    "axs[1, 0].plot(dict_norm_der['n_s'], 'tab:purple')\n",
    "axs[1, 0].set_title(r'$n_s$')\n",
    "\n",
    "axs[1, 1].plot(dict_norm_der['tau_reio'], 'tab:red')\n",
    "axs[1, 1].set_title(r'$\\tau$')\n",
    "\n",
    "axs[1, 2].plot(dict_norm_der['sigma_dmeff'], 'tab:red')\n",
    "axs[1, 2].set_title('sigma_dmeff')\n",
    "\n",
    "for ax in axs.flat:\n",
    "    ax.set(xlabel=r'$\\ell$', ylabel=r'$(\\partial C_{\\ell}^{TT} / \\partial \\theta_i) / C_{\\ell}^{TT}$')\n",
    "\n",
    "# Hide x labels and tick labels for top plots and y ticks for right plots.\n",
    "for ax in axs.flat:\n",
    "    ax.label_outer()\n",
    "    \n",
    "fig.savefig(\"fisher_plots/derivative_C_l_TT_0.01GeV_n=2_S4.png\")\n"
   ]
  },
  {
   "cell_type": "code",
   "execution_count": null,
   "metadata": {},
   "outputs": [],
   "source": [
    "#sT = (1. * (np.pi/60./180. ))/(1.0e6*Tcmb)\n",
    "#sP = sT * np.sqrt(2.)\n",
    "f_sky = 0.4\n",
    "theta_fwhm = 1.5 * (np.pi/60./180.)\n",
    "\n",
    "l_min = 2\n",
    "l_max = 2500\n",
    "\n",
    "from scipy.special import expit\n",
    "\n",
    "'''N_TT = np.zeros(l_max+1, 'float64')\n",
    "N_EE = np.zeros(l_max+1, 'float64')\n",
    "\n",
    "for l in range(l_min , l_max+1):\n",
    "            N_TT[l] = 0\n",
    "            N_TT[l] += sT**-2 *\\\n",
    "                    np.exp(\n",
    "                        -l*(l+1)*theta_fwhm**2/8./np.log(2.))\n",
    "            N_TT[l] = 1/N_TT[l]\n",
    "            N_EE[l] = 0\n",
    "            N_EE[l] += sP**-2 *\\\n",
    "                    np.exp(\n",
    "                        -l*(l+1)*theta_fwhm**2/8./np.log(2.))\n",
    "            N_EE[l] = 1/N_EE[l]\n",
    "N_TT[ell < l_min] = 1e100\n",
    "N_TT[ell > l_max] = 1e100\n",
    "N_EE[ell < l_min] = 1e100\n",
    "N_EE[ell > l_max] = 1e100'''"
   ]
  },
  {
   "cell_type": "code",
   "execution_count": null,
   "metadata": {},
   "outputs": [],
   "source": [
    "a = np.load('CMB_S4_noise.npy')\n",
    "\n",
    "nl_tt = a[0]/((1.0e6*Tcmb)**2)\n",
    "nl_ee = a[1]/((1.0e6*Tcmb)**2)\n",
    "nl_kk = a[2]/((1.0e6*Tcmb)**2)"
   ]
  },
  {
   "cell_type": "code",
   "execution_count": null,
   "metadata": {},
   "outputs": [],
   "source": [
    "plt.plot(nl_tt, '-',label=\"N_TT\")\n",
    "plt.plot(nl_ee  , '-',label=\"N_EE\")\n",
    "plt.plot(nl_kk , '-',label=\"N_kk\")\n",
    "\n",
    "#plt.plot(N_EE*((1.0e6*Tcmb)**2) , '-',label=\"Polarization Noise\")\n",
    "#plt.plot(N_KK*((1.0e6*Tcmb)**2) , '--',label=\"Lensing Noise\")\n",
    "plt.yscale('log')\n",
    "plt.ylim(5e-22,1e-19)\n",
    "plt.xlim(2,2500)\n",
    "plt.legend(loc=\"upper right\")\n",
    "plt.title('Noise')\n",
    "plt.show()"
   ]
  },
  {
   "cell_type": "code",
   "execution_count": null,
   "metadata": {},
   "outputs": [],
   "source": [
    "'''import csv\n",
    "\n",
    "with open('s4_noise_k.txt') as inf:\n",
    "    reader = csv.reader(inf, delimiter=\" \")\n",
    "    second_col = [float(i) for i in list(zip(*reader))[3]]\n",
    "    \n",
    "N_kk = np.array(second_col)\n",
    "Nlkk = N_kk[0:2501] /((1.0e6*Tcmb)**2)'''"
   ]
  },
  {
   "cell_type": "code",
   "execution_count": null,
   "metadata": {},
   "outputs": [],
   "source": [
    "'''plt.plot(N_TT*((1.0e6*Tcmb)**2) , '-',label=\"Temperature Noise\")\n",
    "plt.plot(N_EE*((1.0e6*Tcmb)**2) , '-',label=\"Polarization Noise\")\n",
    "plt.plot(N_KK , '--',label=\"Lensing Noise\")\n",
    "plt.yscale('log')\n",
    "plt.ylim(1e-15,1e4)\n",
    "plt.xlim(2,2500)\n",
    "plt.legend(loc=\"upper right\")\n",
    "plt.title('Isabella')\n",
    "plt.show()'''"
   ]
  },
  {
   "cell_type": "markdown",
   "metadata": {},
   "source": [
    "We need:\n",
    " \n",
    "$$ F_{ij} = \\sum_{\\ell} \\frac{2 \\ell + 1}{2} f_{\\mathrm{sky}} \\mathrm{Tr}\\,\\left( \\mathbf{C}_{\\ell}^{-1} \\frac{\\partial \\mathbf{C}_{\\ell}}{\\partial \\theta_i} \\mathbf{C}_{\\ell}^{-1} \\frac{\\mathbf{C}_{\\ell}}{\\partial \\theta_j} \\right)$$\n",
    "[Wu et al. 2014](https://arxiv.org/abs/1402.4108)\n",
    "\n",
    "\n",
    "Computing $C_l$ only using temperature power spectrum for planck baseline. \n",
    "\n",
    "$$ \\mathbf{C}_{\\ell} \\equiv \n",
    "  \\left( {\\begin{array}{cc}\n",
    "   C_{\\ell}^{TT} + N_{\\ell}^{TT} & C_{\\ell}^{TE} & 0 \\\\\n",
    "   C_{\\ell}^{TE} & C_{\\ell}^{EE} + N_{\\ell}^{EE} & 0 \\\\\n",
    "   0 & 0 & C_{\\ell}^{\\kappa\\kappa} + N_{\\ell}^{\\kappa\\kappa} \\\\\n",
    "  \\end{array} } \\right)\n",
    " $$\n",
    "\n",
    "Let :\n",
    "$$   \\mathbf{Q}^{i}_{nm} =\\, \\left( {C}_{\\ell}^{-1} \\frac{\\partial \\mathbf{C}_{\\ell}}{\\partial \\theta_i} \\right)  =\n",
    "  \\left( {\\begin{array}{cc}\n",
    "    C_{\\ell}^{TT} + N_{\\ell}^{TT} & C_{\\ell}^{TE} & 0 \\\\\n",
    "   C_{\\ell}^{TE} & C_{\\ell}^{EE} + N_{\\ell}^{EE} & 0 \\\\\n",
    "   0 & 0 & C_{\\ell}^{\\kappa\\kappa} + N_{\\ell}^{\\kappa\\kappa} \\\\\n",
    "  \\end{array} } \\right)^{-1}\n",
    "   \\left( {\\begin{array}{cc}\n",
    "    \\frac{\\partial C_{\\ell}^{TT}}{\\partial \\theta_i } & \\frac{\\partial C_{\\ell}^{TE}}{\\partial \\theta_i } & 0 \\\\\n",
    "   \\frac{\\partial C_{\\ell}^{TE}}{\\partial \\theta_i } &\\frac{\\partial C_{\\ell}^{EE}}{\\partial \\theta_i } & 0 \\\\\n",
    "    0 & 0 & \\frac{\\partial C_{\\ell}^{\\kappa\\kappa}}{\\partial \\theta_i } \\\\\n",
    "  \\end{array} } \\right)\n",
    "$$\n",
    "So that:\n",
    "$$  F_{ij} = \\sum_{\\ell} \\frac{2 \\ell + 1}{2} f_{\\mathrm{sky}} \\mathrm{Tr}\\,\\left[  \\mathbf{Q}_{i}  \\mathbf{Q}_{j} \\right]\n",
    "$$"
   ]
  },
  {
   "cell_type": "code",
   "execution_count": null,
   "metadata": {},
   "outputs": [],
   "source": [
    "MAT_d_cl = [ [compute_d_cl(list_param_step, params, 'tt', fiducial), compute_d_cl(list_param_step, params, 'te', fiducial),0]\n",
    "            , [compute_d_cl(list_param_step, params, 'te', fiducial), compute_d_cl(list_param_step, params, 'ee', fiducial),0],\n",
    "            [0,0,compute_d_cl(list_param_step, params, 'pp', fiducial)]\n",
    "           ]"
   ]
  },
  {
   "cell_type": "code",
   "execution_count": null,
   "metadata": {},
   "outputs": [],
   "source": [
    "MAT_cl = [\n",
    "    [fiducial['tt'] + nl_tt, fiducial['te'], 0], \n",
    "    [fiducial['te'], fiducial['ee'] + nl_ee, 0],\n",
    "    [0, 0, fiducial['pp'] + nl_kk] \n",
    "        ]"
   ]
  },
  {
   "cell_type": "code",
   "execution_count": null,
   "metadata": {},
   "outputs": [],
   "source": [
    "#for i in list_param:\n",
    "def compute_Q_i(i, l):\n",
    "    d_Cl_i = [[MAT_d_cl[0][0][i][l], MAT_d_cl[0][1][i][l]], [MAT_d_cl[1][0][i][l], MAT_d_cl[1][1][i][l]]]\n",
    "    cl = [[MAT_cl[0][0][l], MAT_cl[0][1][l]], [MAT_cl[1][0][l], MAT_cl[1][1][l]]]\n",
    "    Q_i = np.matmul(inv(cl), d_Cl_i)\n",
    "    return Q_i\n",
    "\n",
    "def compute_F_ij(i, j):\n",
    "    F_ij = 0\n",
    "    for l in range(2, 2500):\n",
    "        F_ij += 0.5*(2*l + 1) *f_sky * np.trace(np.matmul(compute_Q_i(i, l), compute_Q_i(j, l)))\n",
    "    return F_ij"
   ]
  },
  {
   "cell_type": "code",
   "execution_count": null,
   "metadata": {},
   "outputs": [],
   "source": [
    "F =[]\n",
    "for x in list_param:\n",
    "    row = []\n",
    "    for y in list_param:\n",
    "        row.append(compute_F_ij(x, y))\n",
    "    F.append(row)"
   ]
  },
  {
   "cell_type": "code",
   "execution_count": null,
   "metadata": {},
   "outputs": [],
   "source": [
    "covar = inv(F)\n",
    "for n, i in enumerate(list_param):\n",
    "    sigma_ii = np.sqrt(covar[n][n])\n",
    "    print(i, sigma_ii)"
   ]
  },
  {
   "cell_type": "code",
   "execution_count": null,
   "metadata": {},
   "outputs": [],
   "source": [
    "#file = open(\"sigma_dmeff.txt\", \"w\")\n",
    "#print(\"sigma_dmeff\",\"dm_mass [GeV]\", sigma_ii*2.48 ,file=file)\n",
    "#print(sigma_ii, dm_mass,file=file)"
   ]
  },
  {
   "cell_type": "code",
   "execution_count": null,
   "metadata": {},
   "outputs": [],
   "source": [
    "#print(dm_mass, sigma_ii*2.48)"
   ]
  },
  {
   "cell_type": "code",
   "execution_count": null,
   "metadata": {},
   "outputs": [],
   "source": [
    "import fishchips.util\n",
    "\n",
    "cov = np.linalg.inv(F)\n",
    "fig, axes = fishchips.util.plot_triangle_base(list_param, list_fiducial, covar, labels=list_param);\n",
    "\n",
    "fig.savefig(\"fisher_plots/triagular_ellipses_0.01GeV_n=2_S4.png\")"
   ]
  },
  {
   "cell_type": "code",
   "execution_count": null,
   "metadata": {},
   "outputs": [],
   "source": [
    "dat = ('n-power=',n_power,'dm_mass=', dm_mass, 'stepsize =', step_size_cross_section,'fisher matrix =', F,i, \"from cov matrix =\",sigma_ii,\"2-sigma =\" ,sigma_ii*2.48)"
   ]
  },
  {
   "cell_type": "code",
   "execution_count": null,
   "metadata": {},
   "outputs": [],
   "source": [
    "print(dat)"
   ]
  },
  {
   "cell_type": "code",
   "execution_count": null,
   "metadata": {},
   "outputs": [],
   "source": [
    "outF = open(\"fisher_data/S4_n=2/0.01GeV.txt\", \"w\")\n",
    "for i in dat:\n",
    "  # write line to output file\n",
    "  outF.write(str(i))\n",
    "  outF.write(\"\\n\")\n",
    "outF.close()"
   ]
  },
  {
   "cell_type": "code",
   "execution_count": null,
   "metadata": {},
   "outputs": [],
   "source": []
  }
 ],
 "metadata": {
  "kernelspec": {
   "display_name": "Python 3",
   "language": "python",
   "name": "python3"
  },
  "language_info": {
   "codemirror_mode": {
    "name": "ipython",
    "version": 3
   },
   "file_extension": ".py",
   "mimetype": "text/x-python",
   "name": "python",
   "nbconvert_exporter": "python",
   "pygments_lexer": "ipython3",
   "version": "3.8.3"
  }
 },
 "nbformat": 4,
 "nbformat_minor": 4
}
